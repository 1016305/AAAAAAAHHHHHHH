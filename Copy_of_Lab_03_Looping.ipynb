{
  "nbformat": 4,
  "nbformat_minor": 0,
  "metadata": {
    "colab": {
      "provenance": [],
      "toc_visible": true,
      "include_colab_link": true
    },
    "kernelspec": {
      "name": "python3",
      "display_name": "Python 3"
    },
    "language_info": {
      "name": "python"
    }
  },
  "cells": [
    {
      "cell_type": "markdown",
      "metadata": {
        "id": "view-in-github",
        "colab_type": "text"
      },
      "source": [
        "<a href=\"https://colab.research.google.com/github/1016305/AAAAAAAHHHHHHH/blob/main/Copy_of_Lab_03_Looping.ipynb\" target=\"_parent\"><img src=\"https://colab.research.google.com/assets/colab-badge.svg\" alt=\"Open In Colab\"/></a>"
      ]
    },
    {
      "cell_type": "markdown",
      "source": [
        "# **LAB #03** - Looping\n",
        "<br/>\n"
      ],
      "metadata": {
        "id": "qdM8hjkwAnQ5"
      }
    },
    {
      "cell_type": "markdown",
      "source": [
        "><table>\n",
        "##**Lab Overview**\n",
        "\n",
        "These lab questions will help develop your understanding of how loops work and some of the applications where loops are used.  \n",
        "></table>\n",
        "\n",
        "<br/><br/>\n",
        "\n"
      ],
      "metadata": {
        "id": "ax351qT1A2wO"
      }
    },
    {
      "cell_type": "markdown",
      "source": [
        "# **Question #1** - Aggregates on User Input\n",
        "---\n",
        "<br/>\n",
        "\n",
        "Write a program that takes in from the user a list of marks until the user enters a negative number. Once this is done, the program should calculate and display\n",
        "\n",
        "\n",
        "\n",
        "1.   The number of marks\n",
        "2.   The highest mark\n",
        "3.   The lowest mark\n",
        "4.   The average of the marks\n",
        "\n",
        "(note: You cannot use the `max()` or `min()` functions)\n",
        "\n",
        "<br/>\n",
        "\n",
        "\n",
        "**<u>Example Run:</u>**<br/>\n",
        "Mark #1? **50**<br/>\n",
        "Mark #2? **60**<br/>\n",
        "Mark #3? **-1**<br/>\n",
        "Number of marks = 2<br/>\n",
        "Highest Mark = 60<br/>\n",
        "Lowest Mark = 50<br/>\n",
        "Average Mark = 55<br/>\n",
        "<br/>\n",
        "\n",
        "<Br/>\n",
        "\n",
        "><table>\n",
        "### BONUS\n",
        "---\n",
        "Try and add some validation into the program where if the user enters a mark over 100, a message is sent to the user that lets them know that the mark is invalid (and it doesn't add the mark to the statistics - the program just loops again to get another mark).\n",
        "</table>"
      ],
      "metadata": {
        "id": "f1kwJQuoLhE4"
      }
    },
    {
      "cell_type": "markdown",
      "source": [
        "### Your Answer:"
      ],
      "metadata": {
        "id": "jxaY-33JMb77"
      }
    },
    {
      "cell_type": "code",
      "source": [
        "# Student Name: Nik Walsh\n",
        "# Student Number: 1016305\n",
        "\n",
        "# Add answer below this line\n",
        "\n",
        "#list and variables\n",
        "marks = []\n",
        "count = 0\n",
        "total = 0\n",
        "#initial input\n",
        "a = int(input(f\"Mark #{count+1}? \"))\n",
        "marks.append(a)\n",
        "count+=1\n",
        "#loop awaiting inputs\n",
        "while marks[len(marks) - 1] > 0:\n",
        "  b = int(input(f\"Mark #{count+1}? \"))\n",
        "  #catch if user input an invalid grade\n",
        "  if b > 100:\n",
        "    print(\"Mark is invalid. Please try again: \")\n",
        "    continue\n",
        "  marks.append(b)\n",
        "  count+=1\n",
        "\n",
        "#remove the negative input, sort\n",
        "marks.pop()\n",
        "marks.sort(reverse = True)\n",
        "\n",
        "#calculate average\n",
        "\n",
        "for i in marks:\n",
        "  print(i)\n",
        "  total += i\n",
        "\n",
        "#print that shit\n",
        "average = total / len(marks) - 1\n",
        "print(f\"Number of marks = {count - 1}\")\n",
        "print(f\"Highest mark: {marks[0]}\")\n",
        "print(f\"Lowest mark: {marks[len(marks) - 1]}\")\n",
        "print(f\"Average mark: {average}\")"
      ],
      "metadata": {
        "id": "Wc7e2wC5McY0",
        "colab": {
          "base_uri": "https://localhost:8080/",
          "height": 0
        },
        "outputId": "d8ac9626-7248-4eda-8e9b-3e2e5e2110cf"
      },
      "execution_count": 1,
      "outputs": [
        {
          "output_type": "stream",
          "name": "stdout",
          "text": [
            "Mark #1? 55\n",
            "Mark #2? 512\n",
            "Mark is invalid. Please try again: \n",
            "Mark #2? 88\n",
            "Mark #3? 98\n",
            "Mark #4? 78\n",
            "Mark #5? 98\n",
            "Mark #6? 1\n",
            "Mark #7? -1\n",
            "98\n",
            "98\n",
            "88\n",
            "78\n",
            "55\n",
            "1\n",
            "Number of marks = 6\n",
            "Highest mark: 98\n",
            "Lowest mark: 1\n",
            "Average mark: 68.66666666666667\n"
          ]
        }
      ]
    },
    {
      "cell_type": "markdown",
      "source": [
        "<Br/><br/>\n"
      ],
      "metadata": {
        "id": "McmLtW4vMjKn"
      }
    },
    {
      "cell_type": "markdown",
      "source": [
        "# **Question #2** - Interest Earning Calculator\n",
        "---\n",
        "\n",
        "<br/>\n",
        "\n",
        "Create a program that takes in details of a fixed-term interest saving account (initial balance, number of years, interest rate percentage) and creates a nicely formatted table that shows the details for each year. <br/><br/>\n",
        "\n",
        "\n",
        "**<u>Example Run:</u>**<br/>\n",
        "Balance? **100000**<br/>\n",
        "Years? **10**<br/>\n",
        "Interest Rate(%)? **5**<br/>\n",
        "```\n",
        "Year      Balance     Interest   Total Int.\n",
        "-------------------------------------------\n",
        "   1   105,000.00     5,000.00     5,000.00\n",
        "   2   110,250.00     5,250.00    10,250.00\n",
        "   3   115,762.50     5,512.50    15,762.50\n",
        "   4   121,550.62     5,788.12    21,550.62\n",
        "   5   127,628.16     6,077.53    27,628.16\n",
        "   6   134,009.56     6,381.41    34,009.56\n",
        "   7   140,710.04     6,700.48    40,710.04\n",
        "   8   147,745.54     7,035.50    47,745.54\n",
        "   9   155,132.82     7,387.28    55,132.82\n",
        "  10   162,889.46     7,756.64    62,889.46\n",
        "```\n",
        "\n",
        "<br/><br/>\n"
      ],
      "metadata": {
        "id": "9ML3CMJVBxuF"
      }
    },
    {
      "cell_type": "markdown",
      "source": [
        "### Your Answer:"
      ],
      "metadata": {
        "id": "gPCRbhBxGMN0"
      }
    },
    {
      "cell_type": "code",
      "execution_count": null,
      "metadata": {
        "id": "LuZZ6MqZAkbS",
        "outputId": "ace39363-6531-476e-cf0a-72a4e6d4d22c",
        "colab": {
          "base_uri": "https://localhost:8080/"
        }
      },
      "outputs": [
        {
          "output_type": "stream",
          "name": "stdout",
          "text": [
            "Balance? 100000\n",
            "Years? 10\n",
            "Interest rate(%)? 5\n",
            "  Year  Ballance     Interest    Total Int.\n",
            "------  -----------  ----------  ------------\n",
            "     1  $105,000.0   $5,000.0    $5,000.0\n",
            "     2  $110,250.0   $5,250.0    $5,250.0\n",
            "     3  $115,762.5   $5,512.5    $5,512.5\n",
            "     4  $121,550.62  $5,788.12   $5,788.12\n",
            "     5  $127,628.15  $6,077.53   $6,077.53\n",
            "     6  $134,009.56  $6,381.41   $6,381.41\n",
            "     7  $140,710.04  $6,700.48   $6,700.48\n",
            "     8  $147,745.54  $7,035.5    $7,035.5\n",
            "     9  $155,132.82  $7,387.28   $7,387.28\n",
            "    10  $162,889.46  $7,756.64   $7,756.64\n"
          ]
        }
      ],
      "source": [
        "# Student Name: Nik Walsh\n",
        "# Student Number: 1016305\n",
        "\n",
        "# Add answer below this line\n",
        "from tabulate import tabulate\n",
        "#lists\n",
        "year_list = [] #year counter\n",
        "bal_list = [] #balance after interest\n",
        "intr_list = [] #interest earned this year\n",
        "total_list = [] #total interest over time\n",
        "\n",
        "#inputs\n",
        "bal = float(input(\"Balance? \"))\n",
        "year = int(input(\"Years? \"))\n",
        "rate = float(input(\"Interest rate(%)? \"))\n",
        "intr_count = 0\n",
        "\n",
        "rate = rate/100\n",
        "for i in range(year):\n",
        "  #do the math\n",
        "  interest = (bal*rate)\n",
        "  bal = bal + interest\n",
        "  intr_count += interest\n",
        "\n",
        "  #format and concatenate\n",
        "  bal = round(bal, 2)\n",
        "  _bal = str(format(bal, ','))\n",
        "  _bal = \"$\" + _bal\n",
        "\n",
        "  interest = round(interest, 2)\n",
        "  _interest = str(format(interest, ','))\n",
        "  _interest = \"$\" + _interest\n",
        "\n",
        "  intr_count = round(interest, 2)\n",
        "  _intr_count = str(format(intr_count, ','))\n",
        "  _intr_count = \"$\" + _intr_count\n",
        "\n",
        "  #append data to lists for tabulation\n",
        "  year_list.append(i+1)\n",
        "  bal_list.append(_bal)\n",
        "  intr_list.append(_interest)\n",
        "  total_list.append(_intr_count)\n",
        "\n",
        "#print the lists as a table\n",
        "table = [year_list, bal_list, intr_list, total_list]\n",
        "print(tabulate({\"Year\": year_list,\n",
        "                \"Ballance\": bal_list,\n",
        "                \"Interest\": intr_list,\n",
        "                \"Total Int.\": total_list}, headers=\"keys\", tablefmt=\"simple\"))"
      ]
    },
    {
      "cell_type": "markdown",
      "source": [
        "<br/><br/>\n"
      ],
      "metadata": {
        "id": "gPpEwbJeD_qb"
      }
    },
    {
      "cell_type": "markdown",
      "source": [
        "# **Submission**\n",
        "---\n",
        "\n",
        "When you believe you have the program correctly working, please run the program and enter valid details for each program so that the output is apparent.\n",
        "<br/><br/>\n",
        "When you are ready to submit please\n",
        "\n",
        "*   go to `File` -> `Print` -> `Print PDF` and then upload and submit in the LMS.\n",
        "*   save your file to GitHub via: `File` -> `Save a copy in GitHub`\n"
      ],
      "metadata": {
        "id": "CxZ8SilaD9Gq"
      }
    }
  ]
}